{
  "cells": [
    {
      "cell_type": "code",
      "source": [
        "pip install --upgrade tensorflow==2.9.1"
      ],
      "metadata": {
        "id": "YywwmQWOdFc6"
      },
      "id": "YywwmQWOdFc6",
      "execution_count": null,
      "outputs": []
    },
    {
      "cell_type": "code",
      "execution_count": 1,
      "id": "a4fadb46-bdfe-4b25-bcca-2b8789154585",
      "metadata": {
        "tags": [],
        "id": "a4fadb46-bdfe-4b25-bcca-2b8789154585"
      },
      "outputs": [],
      "source": [
        "import matplotlib.pyplot as plt "
      ]
    },
    {
      "cell_type": "code",
      "source": [
        "from google.colab import drive\n",
        "drive.mount('/content/drive')"
      ],
      "metadata": {
        "colab": {
          "base_uri": "https://localhost:8080/"
        },
        "id": "5vEd_TMzTKSr",
        "outputId": "e005d3b2-dbda-47f3-abaa-dfd441faef8c"
      },
      "id": "5vEd_TMzTKSr",
      "execution_count": 2,
      "outputs": [
        {
          "output_type": "stream",
          "name": "stdout",
          "text": [
            "Drive already mounted at /content/drive; to attempt to forcibly remount, call drive.mount(\"/content/drive\", force_remount=True).\n"
          ]
        }
      ]
    },
    {
      "cell_type": "code",
      "execution_count": 3,
      "id": "7c6adbad-9487-4913-b4c7-3b53dd203357",
      "metadata": {
        "tags": [],
        "id": "7c6adbad-9487-4913-b4c7-3b53dd203357"
      },
      "outputs": [],
      "source": [
        "import numpy as np\n",
        "import pandas as pd \n",
        "import seaborn as sns"
      ]
    },
    {
      "cell_type": "code",
      "execution_count": 4,
      "id": "951792a7-0728-4933-87b4-c7e90c3aa932",
      "metadata": {
        "tags": [],
        "id": "951792a7-0728-4933-87b4-c7e90c3aa932"
      },
      "outputs": [],
      "source": [
        "import cv2"
      ]
    },
    {
      "cell_type": "code",
      "execution_count": 10,
      "id": "01a56e3c-fdf5-4f49-ad8f-3e041ad7b491",
      "metadata": {
        "tags": [],
        "id": "01a56e3c-fdf5-4f49-ad8f-3e041ad7b491",
        "colab": {
          "base_uri": "https://localhost:8080/",
          "height": 35
        },
        "outputId": "efd2dcfb-8a26-4b6e-9e04-520c9b9ad18f"
      },
      "outputs": [
        {
          "output_type": "execute_result",
          "data": {
            "text/plain": [
              "'2.9.1'"
            ],
            "application/vnd.google.colaboratory.intrinsic+json": {
              "type": "string"
            }
          },
          "metadata": {},
          "execution_count": 10
        }
      ],
      "source": [
        "import tensorflow as tf\n",
        "tf.__version__\n",
        "#the output of this should be 2.9.x as tensorflow 2.10 has a nasty bug that makes it impossible to save ur model after training"
      ]
    },
    {
      "cell_type": "code",
      "execution_count": 11,
      "id": "ada652ef-2662-41bf-90d2-26851068fa3b",
      "metadata": {
        "tags": [],
        "id": "ada652ef-2662-41bf-90d2-26851068fa3b"
      },
      "outputs": [],
      "source": [
        "from tensorflow.keras.preprocessing.image import ImageDataGenerator"
      ]
    },
    {
      "cell_type": "code",
      "execution_count": 12,
      "id": "59ed9859-9654-48d5-afab-63ad99edea78",
      "metadata": {
        "tags": [],
        "id": "59ed9859-9654-48d5-afab-63ad99edea78"
      },
      "outputs": [],
      "source": [
        "from tqdm import tqdm\n",
        "import os\n",
        "from sklearn.utils import shuffle\n"
      ]
    },
    {
      "cell_type": "code",
      "execution_count": 13,
      "id": "b6f3566f-09f8-45a6-95ae-ba6177a4db88",
      "metadata": {
        "tags": [],
        "id": "b6f3566f-09f8-45a6-95ae-ba6177a4db88"
      },
      "outputs": [],
      "source": [
        "from sklearn.model_selection import train_test_split"
      ]
    },
    {
      "cell_type": "code",
      "execution_count": 14,
      "id": "5e34822b-bf9d-46e2-aeb1-1f65d56e8d79",
      "metadata": {
        "tags": [],
        "id": "5e34822b-bf9d-46e2-aeb1-1f65d56e8d79"
      },
      "outputs": [],
      "source": [
        "from tensorflow.keras.applications import EfficientNetB0"
      ]
    },
    {
      "cell_type": "code",
      "execution_count": 15,
      "id": "0650fd62-c9e2-41b9-9e72-69464d9b4cbb",
      "metadata": {
        "tags": [],
        "id": "0650fd62-c9e2-41b9-9e72-69464d9b4cbb"
      },
      "outputs": [],
      "source": [
        "from tensorflow.keras.callbacks import EarlyStopping, ReduceLROnPlateau, TensorBoard, ModelCheckpoint"
      ]
    },
    {
      "cell_type": "code",
      "execution_count": 16,
      "id": "b9c197af-5eb4-4d7f-ae67-622dff75fbe4",
      "metadata": {
        "tags": [],
        "id": "b9c197af-5eb4-4d7f-ae67-622dff75fbe4"
      },
      "outputs": [],
      "source": [
        "from sklearn.metrics import classification_report, confusion_matrix"
      ]
    },
    {
      "cell_type": "code",
      "execution_count": 17,
      "id": "5266e4bb-49c8-4a75-8647-2db28c8021cf",
      "metadata": {
        "tags": [],
        "id": "5266e4bb-49c8-4a75-8647-2db28c8021cf"
      },
      "outputs": [],
      "source": [
        "import io"
      ]
    },
    {
      "cell_type": "code",
      "execution_count": 18,
      "id": "30aeb6e2-e634-49a9-9655-39f10942f03e",
      "metadata": {
        "tags": [],
        "id": "30aeb6e2-e634-49a9-9655-39f10942f03e"
      },
      "outputs": [],
      "source": [
        "from PIL import Image"
      ]
    },
    {
      "cell_type": "code",
      "execution_count": 19,
      "id": "25acc687-614a-45ac-9e20-4b235949d699",
      "metadata": {
        "tags": [],
        "id": "25acc687-614a-45ac-9e20-4b235949d699"
      },
      "outputs": [],
      "source": [
        "from IPython.display import display, clear_output"
      ]
    },
    {
      "cell_type": "markdown",
      "id": "b4057367-e5c3-4a16-a688-951dbfdf7b9b",
      "metadata": {
        "id": "b4057367-e5c3-4a16-a688-951dbfdf7b9b"
      },
      "source": [
        "## Basic set up"
      ]
    },
    {
      "cell_type": "code",
      "execution_count": 20,
      "id": "b92b4ef4-092b-4407-918b-fffb61106ab3",
      "metadata": {
        "tags": [],
        "id": "b92b4ef4-092b-4407-918b-fffb61106ab3"
      },
      "outputs": [],
      "source": [
        "labels = ['glioma', 'no_tumor','meningioma','pituitary_tumor','neurocytoma','schwannoma','other_abcess_cyst_encephalopathy']"
      ]
    },
    {
      "cell_type": "code",
      "execution_count": 21,
      "id": "13a86f2d-dad8-4306-9cdf-eb0bd3ead2d9",
      "metadata": {
        "tags": [],
        "id": "13a86f2d-dad8-4306-9cdf-eb0bd3ead2d9"
      },
      "outputs": [],
      "source": [
        "\n",
        "\n",
        "X_train = []\n",
        "y_train = []\n",
        "os.getcwd()\n",
        "os.chdir('/content/drive/MyDrive')\n"
      ]
    },
    {
      "cell_type": "code",
      "execution_count": 22,
      "id": "0afdc244-2ca2-4d3f-a922-3af42eb0972f",
      "metadata": {
        "tags": [],
        "colab": {
          "base_uri": "https://localhost:8080/"
        },
        "id": "0afdc244-2ca2-4d3f-a922-3af42eb0972f",
        "outputId": "e67599a2-9305-4bcb-dc09-9ba32fadfd45"
      },
      "outputs": [
        {
          "output_type": "stream",
          "name": "stderr",
          "text": [
            "100%|██████████| 2143/2143 [00:17<00:00, 122.31it/s]\n",
            "100%|██████████| 958/958 [00:07<00:00, 128.70it/s]\n",
            "100%|██████████| 2121/2121 [00:15<00:00, 134.37it/s]\n",
            "100%|██████████| 827/827 [00:06<00:00, 121.51it/s]\n",
            "100%|██████████| 476/476 [00:03<00:00, 140.97it/s]\n",
            "100%|██████████| 403/403 [00:02<00:00, 135.00it/s]\n",
            "100%|██████████| 220/220 [00:01<00:00, 135.77it/s]\n",
            "100%|██████████| 100/100 [00:01<00:00, 93.42it/s]\n",
            "100%|██████████| 105/105 [00:00<00:00, 228.31it/s]\n",
            "100%|██████████| 115/115 [00:00<00:00, 173.82it/s]\n",
            "100%|██████████| 74/74 [00:00<00:00, 83.50it/s]\n",
            "100%|██████████| 66/66 [00:00<00:00, 149.48it/s]\n",
            "100%|██████████| 67/67 [00:00<00:00, 143.95it/s]\n",
            "100%|██████████| 37/37 [00:00<00:00, 124.22it/s]\n"
          ]
        }
      ],
      "source": [
        "#scaling our images to 150px by 150px to make training easier/convenient\n",
        "scaleDown = 150\n",
        "#these 2 for loops are horrendous i know, i can't be bothered to make them more elegant, sorry\n",
        "for i in labels: \n",
        "    folderPath = os.path.join('Training', i)\n",
        "    for j in tqdm(os.listdir(folderPath)):\n",
        "        img = cv2.imread(os.path.join(folderPath, j))\n",
        "        img = cv2.resize(img, (scaleDown, scaleDown))\n",
        "        X_train.append(img)\n",
        "        y_train.append(i)\n",
        "        \n",
        "for i in labels:\n",
        "    folderPath = os.path.join('Testing', i)\n",
        "    for j in tqdm(os.listdir(folderPath)):\n",
        "        img = cv2.imread(os.path.join(folderPath, j))\n",
        "        img = cv2.resize(img, (scaleDown, scaleDown))\n",
        "        X_train.append(img)\n",
        "        y_train.append(i)\n",
        "\n",
        "X_train = np.array(X_train)\n",
        "y_train = np.array(y_train)"
      ]
    },
    {
      "cell_type": "code",
      "execution_count": 23,
      "id": "1efa3b27-01f3-4bc1-ac26-00d2dd282c34",
      "metadata": {
        "tags": [],
        "id": "1efa3b27-01f3-4bc1-ac26-00d2dd282c34"
      },
      "outputs": [],
      "source": [
        "X_train, y_train = shuffle(X_train, y_train, random_state=101)"
      ]
    },
    {
      "cell_type": "code",
      "execution_count": 24,
      "id": "0c18e416-d8a7-432f-9332-82426de5a6a0",
      "metadata": {
        "tags": [],
        "id": "0c18e416-d8a7-432f-9332-82426de5a6a0",
        "outputId": "73e6103a-f581-4477-8bf9-5638cdba2378",
        "colab": {
          "base_uri": "https://localhost:8080/"
        }
      },
      "outputs": [
        {
          "output_type": "execute_result",
          "data": {
            "text/plain": [
              "(7712, 150, 150, 3)"
            ]
          },
          "metadata": {},
          "execution_count": 24
        }
      ],
      "source": [
        "X_train.shape"
      ]
    },
    {
      "cell_type": "code",
      "execution_count": 25,
      "id": "50f0134e-fb7a-4ac6-99e7-0c084e5a5a05",
      "metadata": {
        "tags": [],
        "id": "50f0134e-fb7a-4ac6-99e7-0c084e5a5a05"
      },
      "outputs": [],
      "source": [
        "#The (3002, 150, 150, 3) is the final shape of our training data (the 3002 images that have been scaled to\n",
        "# 150x150px with 3 channels and converted to an np array)"
      ]
    },
    {
      "cell_type": "markdown",
      "id": "b95b3830-0755-4ac8-8a89-2f8329ca0d78",
      "metadata": {
        "tags": [],
        "id": "b95b3830-0755-4ac8-8a89-2f8329ca0d78"
      },
      "source": [
        "### Splitting the Data into Training and Testing"
      ]
    },
    {
      "cell_type": "code",
      "execution_count": 26,
      "id": "481e4383-3f14-4361-9c95-b7b17d36816e",
      "metadata": {
        "tags": [],
        "id": "481e4383-3f14-4361-9c95-b7b17d36816e"
      },
      "outputs": [],
      "source": [
        "X_train, X_test, y_train, y_test = train_test_split(X_train, y_train, test_size=0.08, random_state=101)"
      ]
    },
    {
      "cell_type": "markdown",
      "id": "136f1990-44ff-4b98-9f54-ebdfa01dfd17",
      "metadata": {
        "id": "136f1990-44ff-4b98-9f54-ebdfa01dfd17"
      },
      "source": [
        "### Converting the text based values of the y_train array into numerical values"
      ]
    },
    {
      "cell_type": "code",
      "execution_count": 27,
      "id": "7aa1af59-1b59-4782-9bef-74569b55193c",
      "metadata": {
        "tags": [],
        "id": "7aa1af59-1b59-4782-9bef-74569b55193c"
      },
      "outputs": [],
      "source": [
        "y_train_final = []\n",
        "for i in y_train:\n",
        "    y_train_final.append(labels.index(i))\n",
        "y_train = y_train_final\n",
        "y_train = tf.keras.utils.to_categorical(y_train)\n",
        "\n",
        "\n",
        "y_test_final = []\n",
        "for i in y_test:\n",
        "    y_test_final.append(labels.index(i))\n",
        "y_test = y_test_final\n",
        "y_test = tf.keras.utils.to_categorical(y_test)\n"
      ]
    },
    {
      "cell_type": "code",
      "execution_count": 28,
      "id": "3c516677-2c76-4a40-910d-bd90f7820a3f",
      "metadata": {
        "tags": [],
        "id": "3c516677-2c76-4a40-910d-bd90f7820a3f"
      },
      "outputs": [],
      "source": [
        "effnet = EfficientNetB0(weights='imagenet', include_top=False, input_shape=(scaleDown, scaleDown,3))"
      ]
    },
    {
      "cell_type": "code",
      "execution_count": 29,
      "id": "d1100e0c-0f8a-4aae-8a9a-49d3de8399e6",
      "metadata": {
        "tags": [],
        "id": "d1100e0c-0f8a-4aae-8a9a-49d3de8399e6"
      },
      "outputs": [],
      "source": [
        "model = effnet.output"
      ]
    },
    {
      "cell_type": "code",
      "execution_count": 30,
      "id": "3b4edbd2-6de7-485d-98fb-34b2e6213ffa",
      "metadata": {
        "tags": [],
        "id": "3b4edbd2-6de7-485d-98fb-34b2e6213ffa"
      },
      "outputs": [],
      "source": [
        "model = tf.keras.layers.GlobalAveragePooling2D()(model)\n",
        "model = tf.keras.layers.Dropout(rate=0.5)(model)\n",
        "model = tf.keras.layers.Dense(7, activation='softmax')(model)\n",
        "model = tf.keras.models.Model(inputs=effnet.input, outputs = model)"
      ]
    },
    {
      "cell_type": "code",
      "execution_count": 31,
      "id": "b9a87750-f302-471d-918d-ee46c5470401",
      "metadata": {
        "tags": [],
        "id": "b9a87750-f302-471d-918d-ee46c5470401"
      },
      "outputs": [],
      "source": [
        "# model.summary() to get a useful summary about our model"
      ]
    },
    {
      "cell_type": "code",
      "execution_count": 32,
      "id": "bd6d1cf2-ffe0-4af3-bff6-82bfde1aeb3d",
      "metadata": {
        "tags": [],
        "id": "bd6d1cf2-ffe0-4af3-bff6-82bfde1aeb3d"
      },
      "outputs": [],
      "source": [
        "model.compile(loss='categorical_crossentropy', optimizer = 'Adam', metrics=['accuracy'])"
      ]
    },
    {
      "cell_type": "code",
      "execution_count": 41,
      "id": "44d6718f-41cf-4cf6-b70c-bb2dc4083c4b",
      "metadata": {
        "tags": [],
        "id": "44d6718f-41cf-4cf6-b70c-bb2dc4083c4b"
      },
      "outputs": [],
      "source": [
        "#callbacks\n",
        "tensorboard = TensorBoard(log_dir = 'logs')\n",
        "#cp_callback is for saving the model as we train\n",
        "cp_callback = tf.keras.callbacks.ModelCheckpoint(filepath='final.chkpt',save_weights_only=True,verbose=1)\n",
        "reduce_lr = ReduceLROnPlateau(monitor = 'val_accuracy', factor=0.3, patience=2, min_delta=0.002, mode='auto', verbose=1)"
      ]
    },
    {
      "cell_type": "code",
      "source": [
        "## Loading the saved weights from out trained model to avoid re-training\n",
        "checkpoint_path = \"checkpoint/training1.chkpt\"\n",
        "model.load_weights(checkpoint_path)\n",
        "\n"
      ],
      "metadata": {
        "colab": {
          "base_uri": "https://localhost:8080/"
        },
        "id": "JPGWVn_uXYJw",
        "outputId": "8824b43d-6bc8-4515-d6c0-0e43d9cf4abf"
      },
      "id": "JPGWVn_uXYJw",
      "execution_count": null,
      "outputs": [
        {
          "output_type": "execute_result",
          "data": {
            "text/plain": [
              "<tensorflow.python.checkpoint.checkpoint.CheckpointLoadStatus at 0x7f1154244490>"
            ]
          },
          "metadata": {},
          "execution_count": 40
        }
      ]
    },
    {
      "cell_type": "code",
      "source": [
        "##Evaluate the model after loading the weights\n",
        "loss, acc = model.evaluate(X_test, y_test, verbose=2)\n",
        "print(\"Restored model, accuracy: {:5.2f}%\".format(100 * acc))"
      ],
      "metadata": {
        "id": "fZVDy0xDZZei"
      },
      "id": "fZVDy0xDZZei",
      "execution_count": null,
      "outputs": []
    },
    {
      "cell_type": "code",
      "execution_count": 42,
      "id": "e65f8566-2f05-4f44-9711-5819a8629393",
      "metadata": {
        "id": "e65f8566-2f05-4f44-9711-5819a8629393",
        "colab": {
          "base_uri": "https://localhost:8080/"
        },
        "outputId": "82784cfd-e525-4c74-f4a4-a7b667b6d6d4"
      },
      "outputs": [
        {
          "output_type": "stream",
          "name": "stdout",
          "text": [
            "Epoch 1/10\n",
            "213/213 [==============================] - 38s 169ms/step - loss: 0.0056 - accuracy: 0.9986 - val_loss: 0.0909 - val_accuracy: 0.9803 - lr: 9.0000e-05\n",
            "Epoch 2/10\n",
            "213/213 [==============================] - 33s 153ms/step - loss: 0.0051 - accuracy: 0.9986 - val_loss: 0.0752 - val_accuracy: 0.9831 - lr: 9.0000e-05\n",
            "Epoch 3/10\n",
            "213/213 [==============================] - 32s 150ms/step - loss: 0.0038 - accuracy: 0.9994 - val_loss: 0.0833 - val_accuracy: 0.9817 - lr: 9.0000e-05\n",
            "Epoch 4/10\n",
            "213/213 [==============================] - ETA: 0s - loss: 0.0044 - accuracy: 0.9989\n",
            "Epoch 4: ReduceLROnPlateau reducing learning rate to 2.700000040931627e-05.\n",
            "213/213 [==============================] - 32s 151ms/step - loss: 0.0044 - accuracy: 0.9989 - val_loss: 0.0755 - val_accuracy: 0.9831 - lr: 9.0000e-05\n",
            "Epoch 5/10\n",
            "213/213 [==============================] - 33s 153ms/step - loss: 0.0043 - accuracy: 0.9989 - val_loss: 0.0796 - val_accuracy: 0.9831 - lr: 2.7000e-05\n",
            "Epoch 6/10\n",
            "213/213 [==============================] - ETA: 0s - loss: 0.0042 - accuracy: 0.9984\n",
            "Epoch 6: ReduceLROnPlateau reducing learning rate to 8.100000013655517e-06.\n",
            "213/213 [==============================] - 33s 153ms/step - loss: 0.0042 - accuracy: 0.9984 - val_loss: 0.0825 - val_accuracy: 0.9817 - lr: 2.7000e-05\n",
            "Epoch 7/10\n",
            "213/213 [==============================] - 33s 153ms/step - loss: 0.0041 - accuracy: 0.9989 - val_loss: 0.0816 - val_accuracy: 0.9831 - lr: 8.1000e-06\n",
            "Epoch 8/10\n",
            "213/213 [==============================] - ETA: 0s - loss: 0.0026 - accuracy: 0.9995\n",
            "Epoch 8: ReduceLROnPlateau reducing learning rate to 2.429999949526973e-06.\n",
            "213/213 [==============================] - 33s 153ms/step - loss: 0.0026 - accuracy: 0.9995 - val_loss: 0.0797 - val_accuracy: 0.9831 - lr: 8.1000e-06\n",
            "Epoch 9/10\n",
            "213/213 [==============================] - 32s 151ms/step - loss: 0.0019 - accuracy: 0.9994 - val_loss: 0.0794 - val_accuracy: 0.9831 - lr: 2.4300e-06\n",
            "Epoch 10/10\n",
            "213/213 [==============================] - ETA: 0s - loss: 0.0038 - accuracy: 0.9986\n",
            "Epoch 10: ReduceLROnPlateau reducing learning rate to 7.289999985005124e-07.\n",
            "213/213 [==============================] - 32s 151ms/step - loss: 0.0038 - accuracy: 0.9986 - val_loss: 0.0793 - val_accuracy: 0.9831 - lr: 2.4300e-06\n"
          ]
        }
      ],
      "source": [
        "##Training the model (Leaning Step)\n",
        "history = model.fit(X_train,y_train,validation_split=0.1, epochs=10, verbose=1, batch_size=30, callbacks=[tensorboard,reduce_lr])"
      ]
    },
    {
      "cell_type": "markdown",
      "source": [
        "# **Saving our model**"
      ],
      "metadata": {
        "id": "UKQ8P8EYd_Bk"
      },
      "id": "UKQ8P8EYd_Bk"
    },
    {
      "cell_type": "code",
      "source": [
        "model.save('saved_model/my_model')"
      ],
      "metadata": {
        "id": "aPKvAsh5_Kj9",
        "colab": {
          "base_uri": "https://localhost:8080/"
        },
        "outputId": "b54ee0b0-3aef-45f5-d684-de117e924e1f"
      },
      "id": "aPKvAsh5_Kj9",
      "execution_count": 43,
      "outputs": [
        {
          "output_type": "stream",
          "name": "stderr",
          "text": [
            "WARNING:absl:Found untraced functions such as _jit_compiled_convolution_op, _jit_compiled_convolution_op, _jit_compiled_convolution_op, _jit_compiled_convolution_op, _jit_compiled_convolution_op while saving (showing 5 of 81). These functions will not be directly callable after loading.\n"
          ]
        }
      ]
    },
    {
      "cell_type": "code",
      "source": [
        "pred = model.predict(X_test)"
      ],
      "metadata": {
        "colab": {
          "base_uri": "https://localhost:8080/"
        },
        "id": "TqLNXKiT-vth",
        "outputId": "c32a33a3-3338-4600-da90-a85839405b60"
      },
      "id": "TqLNXKiT-vth",
      "execution_count": 44,
      "outputs": [
        {
          "output_type": "stream",
          "name": "stdout",
          "text": [
            "20/20 [==============================] - 1s 32ms/step\n"
          ]
        }
      ]
    },
    {
      "cell_type": "code",
      "execution_count": 45,
      "id": "4c176dd6-ed7b-4f91-8c10-75cd01d21082",
      "metadata": {
        "tags": [],
        "id": "4c176dd6-ed7b-4f91-8c10-75cd01d21082"
      },
      "outputs": [],
      "source": [
        "pred = np.argmax(pred,axis=1)"
      ]
    },
    {
      "cell_type": "code",
      "execution_count": 46,
      "id": "6723ee23-4a3c-4b95-a1f3-8193629c5f13",
      "metadata": {
        "tags": [],
        "id": "6723ee23-4a3c-4b95-a1f3-8193629c5f13"
      },
      "outputs": [],
      "source": [
        "y_test_final = np.argmax(y_test, axis=1)"
      ]
    },
    {
      "cell_type": "code",
      "execution_count": 47,
      "id": "f3fbee46-0fa7-40e8-a082-8397eeda269d",
      "metadata": {
        "tags": [],
        "id": "f3fbee46-0fa7-40e8-a082-8397eeda269d",
        "colab": {
          "base_uri": "https://localhost:8080/"
        },
        "outputId": "b326191c-33b7-4f21-f886-d8cf6c2a50d8"
      },
      "outputs": [
        {
          "output_type": "stream",
          "name": "stdout",
          "text": [
            "              precision    recall  f1-score   support\n",
            "\n",
            "           0       0.99      0.97      0.98       178\n",
            "           1       1.00      0.97      0.99        76\n",
            "           2       0.96      0.98      0.97       189\n",
            "           3       0.98      1.00      0.99        60\n",
            "           4       0.98      0.98      0.98        46\n",
            "           5       0.96      1.00      0.98        45\n",
            "           6       1.00      0.96      0.98        23\n",
            "\n",
            "    accuracy                           0.98       617\n",
            "   macro avg       0.98      0.98      0.98       617\n",
            "weighted avg       0.98      0.98      0.98       617\n",
            "\n"
          ]
        }
      ],
      "source": [
        "print(classification_report(y_test_final,pred))"
      ]
    },
    {
      "cell_type": "markdown",
      "id": "03d6ced2-d6c5-4b78-9033-9a7c279bdbc7",
      "metadata": {
        "id": "03d6ced2-d6c5-4b78-9033-9a7c279bdbc7"
      },
      "source": [
        "## Loading a new image and making a prediction using our model"
      ]
    },
    {
      "cell_type": "code",
      "execution_count": 50,
      "id": "8b21b2a0-23f1-4090-bcbd-ed42751bee8e",
      "metadata": {
        "tags": [],
        "id": "8b21b2a0-23f1-4090-bcbd-ed42751bee8e",
        "colab": {
          "base_uri": "https://localhost:8080/",
          "height": 306
        },
        "outputId": "93a07620-12c5-41a8-a25d-5c8b3a6a96b2"
      },
      "outputs": [
        {
          "output_type": "stream",
          "name": "stdout",
          "text": [
            "1/1 [==============================] - 0s 135ms/step\n",
            "The model predicts : neurocytoma\n"
          ]
        },
        {
          "output_type": "display_data",
          "data": {
            "text/plain": [
              "<Figure size 432x288 with 1 Axes>"
            ],
            "image/png": "[encoded data removed]"
          },
          "metadata": {
            "needs_background": "light"
          }
        }
      ],
      "source": [
        "img = Image.open(r\"ImagesForPrediction/b193be03b32013b8661ec3da8e6c2a_gallery.jpeg\")\n",
        "opencvImage = cv2.cvtColor(np.array(img), cv2.COLOR_RGB2BGR)\n",
        "img = cv2.resize(opencvImage, (150,150))\n",
        "plt.imshow(img)\n",
        "img = img.reshape(1,150,150,3)\n",
        "prediction = model.predict(img)\n",
        "prediction = np.argmax(prediction,axis=1)[0]\n",
        "    \n",
        "    \n",
        "if prediction==0:\n",
        "  prediction='Glioma'\n",
        "elif prediction==1:\n",
        "  prediction='No Tumor'\n",
        "elif prediction==2:\n",
        "  prediction='Meningioma'\n",
        "elif prediction==3:\n",
        "  prediction='Pituitary Tumor'\n",
        "elif prediction==4:\n",
        "  prediction=\"neurocytoma\"  \n",
        "elif prediction==5:\n",
        "  prediction='schwannoma'\n",
        "elif prediction==6:\n",
        "  prediction=\"other lesions(abcess,cyst,encephalopathy)\"     \n",
        " \n",
        "    \n",
        "print(f'The model predicts : {prediction}')    "
      ]
    },
    {
      "cell_type": "code",
      "execution_count": null,
      "id": "64cf9a71-c26f-4eaf-9dd4-1689a5a2d326",
      "metadata": {
        "id": "64cf9a71-c26f-4eaf-9dd4-1689a5a2d326"
      },
      "outputs": [],
      "source": [
        "#@title Loading saved modules \n",
        "\n",
        "# Recreate the exact same model, including its weights and the optimizer\n",
        "new_model = tf.keras.models.load_model('my_model.h5')\n",
        "\n",
        "# Show the model architecture\n",
        "new_model.summary()\n",
        "\n",
        "# Check its accuracy\n",
        "loss, acc = new_model.evaluate(X_test, y_test, verbose=2)\n",
        "print('Restored model, accuracy: {:5.2f}%'.format(100 * acc))\n"
      ]
    },
    {
      "cell_type": "code",
      "execution_count": null,
      "id": "1e3f0118-83c7-4c5b-8548-ffcc60072f8c",
      "metadata": {
        "id": "1e3f0118-83c7-4c5b-8548-ffcc60072f8c"
      },
      "outputs": [],
      "source": []
    },
    {
      "cell_type": "code",
      "execution_count": null,
      "id": "8e003201-8a2d-4b68-a1e1-5055ffd9924e",
      "metadata": {
        "id": "8e003201-8a2d-4b68-a1e1-5055ffd9924e"
      },
      "outputs": [],
      "source": []
    },
    {
      "cell_type": "code",
      "execution_count": null,
      "id": "18376258-76f6-441d-b280-621dfe5d0828",
      "metadata": {
        "id": "18376258-76f6-441d-b280-621dfe5d0828"
      },
      "outputs": [],
      "source": []
    }
  ],
  "metadata": {
    "kernelspec": {
      "display_name": "Python 3 (ipykernel)",
      "language": "python",
      "name": "python3"
    },
    "language_info": {
      "codemirror_mode": {
        "name": "ipython",
        "version": 3
      },
      "file_extension": ".py",
      "mimetype": "text/x-python",
      "name": "python",
      "nbconvert_exporter": "python",
      "pygments_lexer": "ipython3",
      "version": "3.10.9"
    },
    "colab": {
      "provenance": []
    },
    "accelerator": "GPU",
    "gpuClass": "standard"
  },
  "nbformat": 4,
  "nbformat_minor": 5
}